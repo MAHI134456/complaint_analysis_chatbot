{
  "cells": [
    {
      "cell_type": "markdown",
      "metadata": {
        "id": "NwU7b28DBQmr"
      },
      "source": [
        "# Changing file tyoe of the data to make the process a bit faster"
      ]
    },
    {
      "cell_type": "code",
      "execution_count": null,
      "metadata": {
        "colab": {
          "base_uri": "https://localhost:8080/"
        },
        "id": "8_3jJLmmB8Ij",
        "outputId": "875bd7b3-0ce9-45c8-fec6-393a6e6a5eda"
      },
      "outputs": [
        {
          "name": "stdout",
          "output_type": "stream",
          "text": [
            "Drive already mounted at /content/drive; to attempt to forcibly remount, call drive.mount(\"/content/drive\", force_remount=True).\n"
          ]
        }
      ],
      "source": [
        "from google.colab import drive\n",
        "drive.mount('/content/drive')"
      ]
    },
    {
      "cell_type": "code",
      "execution_count": null,
      "metadata": {
        "id": "f804HwGkClBG"
      },
      "outputs": [],
      "source": [
        "import pandas as pd\n",
        "\n",
        "file_path = '/content/drive/MyDrive/complaints.csv'\n",
        "\n",
        "df = pd.read_csv(file_path, low_memory=False)\n",
        "\n",
        "df.to_parquet('/content/drive/MyDrive/complaints.parquet')"
      ]
    }
  ],
  "metadata": {
    "accelerator": "TPU",
    "colab": {
      "gpuType": "V28",
      "provenance": []
    },
    "kernelspec": {
      "display_name": "Python 3",
      "name": "python3"
    },
    "language_info": {
      "name": "python"
    }
  },
  "nbformat": 4,
  "nbformat_minor": 0
}